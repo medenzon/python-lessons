{
 "cells": [
  {
   "cell_type": "markdown",
   "metadata": {},
   "source": [
    "<h1 style=\"font-size: 30px\">Lesson 4 - Control Flow Practice</h1>\n",
    "<hr style=\"height: 3px;\">"
   ]
  },
  {
   "cell_type": "markdown",
   "metadata": {},
   "source": [
    "<h4>1.</h4>\n",
    "<p style=\"padding-left: 40px;\">\n",
    "Compute the sum of the elements in the list <code> data </code> using a <code style=\"color: #008002;\"><b>for</b></code> loop.\n",
    "</p>"
   ]
  },
  {
   "cell_type": "code",
   "execution_count": null,
   "metadata": {
    "collapsed": true
   },
   "outputs": [],
   "source": [
    "data = [8,31,82,55,16,7,43,48,10]\n",
    "\n",
    "n = len(data)           # length of data\n",
    "s = 0                   # sum of elements in data\n",
    "\n",
    "for i in range(n):      # iterates from 0 to n-1, incrementing by 1\n",
    "    \n",
    "    # your code here...\n",
    "    "
   ]
  },
  {
   "cell_type": "markdown",
   "metadata": {},
   "source": [
    "<h2></h2>\n",
    "<h4>2.</h4>\n",
    "<p style=\"padding-left: 40px;\">\n",
    "The list <code> spy </code> holds the closing price of the S&P 500 Index for the last 5 trading days. Using a <code style=\"color: #008002;\"><b>for</b></code> loop, compute its 5-day moving average.\n",
    "</p>"
   ]
  },
  {
   "cell_type": "code",
   "execution_count": null,
   "metadata": {
    "collapsed": true
   },
   "outputs": [],
   "source": [
    "spy = [242.607,242.62,244.64,243.04,242.95 ]\n",
    "\n",
    "n = len(spy)            # length of spy\n",
    "s = 0                   # sum of elements in spy\n",
    "\n",
    "for i in range(n):      # iterates from 0 to n-1, incrementing by 1\n",
    "    \n",
    "    # your code here...\n"
   ]
  },
  {
   "cell_type": "markdown",
   "metadata": {},
   "source": [
    "<h2></h2>\n",
    "<h4>3.</h4>\n",
    "<p style=\"padding-left: 40px;\">\n",
    "Given a sorted list of the ten highest and ten lowest PE ratios in the technology sector at yesterday's closing bell, create a single new list that contains the top five and bottom five PE ratios. <i>(hint: you should not be using a for loop)</i>\n",
    "</p>"
   ]
  },
  {
   "cell_type": "code",
   "execution_count": null,
   "metadata": {
    "collapsed": true
   },
   "outputs": [],
   "source": [
    "hi = [3917.4545,1530.7273,460.7368,378.5000,230.4286,149.6675,128.4275,122.8627,121.4476,113.1644]\n",
    "lo = [15.3723,14.1897,13.6444,12.9612,12.7440,12.5936,12.1164,11.4160,8.1639,6.8510]\n",
    "\n",
    "# your code here...\n"
   ]
  },
  {
   "cell_type": "markdown",
   "metadata": {},
   "source": [
    "<h2></h2>\n",
    "<h4>4.</h4>\n",
    "<p style=\"padding-left: 40px;\">\n",
    "Given the list <code> lst </code> write some code that moves the first element <code><b>1</b></code> through the list using a <code style=\"color: #008002;\"><b>for</b></code> loop. Print the entire list after each time the <code><b>1</b></code> is moved.<br>\n",
    "&nbsp;<br>\n",
    "Your results should look like this:\n",
    "<code>\n",
    "            \n",
    "            [<b>1</b>,0,0,0,0]\n",
    "            [0,<b>1</b>,0,0,0]\n",
    "            [0,0,<b>1</b>,0,0]\n",
    "            [0,0,0,<b>1</b>,0]\n",
    "            [0,0,0,0,<b>1</b>]\n",
    "            \n",
    "</code>\n",
    "</p>"
   ]
  },
  {
   "cell_type": "code",
   "execution_count": null,
   "metadata": {},
   "outputs": [],
   "source": [
    "lst = [1,0,0,0,0]\n",
    "n = len(lst)            # length of lst\n",
    "\n",
    "for i in range(n):      # iterates from 0 to n-1, incrementing by 1\n",
    "    \n",
    "    # your code here...\n",
    "    "
   ]
  },
  {
   "cell_type": "markdown",
   "metadata": {},
   "source": [
    "<h2></h2>\n",
    "<h4>5.</h4>\n",
    "<p style=\"padding-left: 40px;\">\n",
    "The Ridgemont High School class schedule operates on an 8-day rotation, days <i>A</i> through <i>H</i>, by dropping periods 2 and 3, and picking up 4 and 5. Given the list <code>my_schedule</code> which contains a student's A day classes periods 1-6, and B day periods 4-5, write a function called <code style=\"color:#6400CC;\">calc_day</code><code>()</code> that receives a <code style=\"color:#008002;\"><b>lst</b></code> value: <code><b>schedule</b></code> (the student's class schedule) and a <code style=\"color:#008002;\"><b>str</b></code> value <code><b>letter</b></code> (the letter day), and computes the apropriate class schedule. <i>(hint: you <u>should</u> be using a for loop)</i>\n",
    "</p>\n",
    "<p style=\"padding-left: 40px;\">\n",
    "Note:<br>\n",
    "Call the function <code style=\"color:#6400CC;\">letter_to_num</code><code>()</code> inside of <code style=\"color:#6400CC;\">calc_day</code><code>()</code> to convert the given letter, to its number in the rotation. For example, <i>A</i>-day, since it is the first in the cycle, would be 1. Subsequently, <i>B</i>-day would be 2, and so forth.\n",
    "</p>"
   ]
  },
  {
   "cell_type": "code",
   "execution_count": null,
   "metadata": {
    "collapsed": true
   },
   "outputs": [],
   "source": [
    "my_schedule = ['Programming',            # A - 1\n",
    "               'Physics',                # A - 2\n",
    "               'Free Period',            # A - 3\n",
    "               'AP Psychology',          # A - 4\n",
    "               'Calculus',               # A - 5\n",
    "               'Free Period',            # A - 6\n",
    "               'History',                # B - 4\n",
    "               'Spanish',]               # B - 5"
   ]
  },
  {
   "cell_type": "code",
   "execution_count": null,
   "metadata": {
    "collapsed": true
   },
   "outputs": [],
   "source": [
    "def letter_to_num(letter):\n",
    "    \n",
    "    dayList = ['A','B','C','D','E','F','G','H']\n",
    "    \n",
    "    for i in range(len(dayList)):\n",
    "        if letter == dayList[i]:\n",
    "            return i + 1         # return position of letter\n",
    "        \n",
    "    return 0                     # return 0 if letter is not in dayList"
   ]
  },
  {
   "cell_type": "code",
   "execution_count": null,
   "metadata": {
    "collapsed": true
   },
   "outputs": [],
   "source": [
    "def calc_day(schedule,letter):\n",
    "    \n",
    "    # your code here...\n",
    "    "
   ]
  }
 ],
 "metadata": {
  "kernelspec": {
   "display_name": "Python 2",
   "language": "python",
   "name": "python2"
  },
  "language_info": {
   "codemirror_mode": {
    "name": "ipython",
    "version": 2
   },
   "file_extension": ".py",
   "mimetype": "text/x-python",
   "name": "python",
   "nbconvert_exporter": "python",
   "pygments_lexer": "ipython2",
   "version": "2.7.13"
  }
 },
 "nbformat": 4,
 "nbformat_minor": 2
}
