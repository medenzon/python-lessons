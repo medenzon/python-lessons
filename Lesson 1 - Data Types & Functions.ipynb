{
 "cells": [
  {
   "cell_type": "markdown",
   "metadata": {
    "deletable": true,
    "editable": true
   },
   "source": [
    "<h1 style=\"font-size: 30px\">Lesson 1 - Data Types & Functions</h1>\n",
    "<hr style=\"height: 3px;\">"
   ]
  },
  {
   "cell_type": "markdown",
   "metadata": {
    "deletable": true,
    "editable": true
   },
   "source": [
    "<h2 style=\"font-size: 30px;\n",
    "           font-weight: 400;\">Data Types</h2>\n",
    "<hr style=\"height: 0.5px;\">\n",
    "<p>\n",
    "There are four main data types in python: int, float, str, and bool. The type() function will tell you what data type (object) a variable is.\n",
    "</p>"
   ]
  },
  {
   "cell_type": "markdown",
   "metadata": {
    "deletable": true,
    "editable": true
   },
   "source": [
    "<h3 style=\"font-size: 25px;\n",
    "           font-weight: 400;\">\n",
    "           <code style=\"color: #A500A5;\">int</code></h3>\n",
    "<p>An integer... is an integer. Nothing to see here.</p>"
   ]
  },
  {
   "cell_type": "code",
   "execution_count": 9,
   "metadata": {
    "collapsed": false,
    "deletable": true,
    "editable": true
   },
   "outputs": [
    {
     "name": "stdout",
     "output_type": "stream",
     "text": [
      "<type 'int'>\n"
     ]
    }
   ],
   "source": [
    "print(type(5))"
   ]
  },
  {
   "cell_type": "markdown",
   "metadata": {
    "deletable": true,
    "editable": true
   },
   "source": [
    "<h3 style=\"font-size: 25px;\n",
    "           font-weight: 400;\">\n",
    "           <code style=\"color: #A500A5;\">float</code></h3>\n",
    "<p>A float is a number with a decimal point.</p>"
   ]
  },
  {
   "cell_type": "code",
   "execution_count": 17,
   "metadata": {
    "collapsed": false,
    "deletable": true,
    "editable": true
   },
   "outputs": [
    {
     "name": "stdout",
     "output_type": "stream",
     "text": [
      "<type 'float'>\n"
     ]
    }
   ],
   "source": [
    "print(type(5.0))"
   ]
  },
  {
   "cell_type": "markdown",
   "metadata": {
    "deletable": true,
    "editable": true
   },
   "source": [
    "<h4></h4>\n",
    "<p>An integer can be added to a float, in which case, it becomes a float.</p>"
   ]
  },
  {
   "cell_type": "code",
   "execution_count": 3,
   "metadata": {
    "collapsed": false,
    "deletable": true,
    "editable": true
   },
   "outputs": [
    {
     "name": "stdout",
     "output_type": "stream",
     "text": [
      "(<type 'int'>, <type 'float'>)\n",
      "(12.5, <type 'float'>)\n"
     ]
    }
   ],
   "source": [
    "a = 5\n",
    "b = 7.5\n",
    "c = a + b\n",
    "\n",
    "print(type(a), type(b))\n",
    "print(c, type(c))"
   ]
  },
  {
   "cell_type": "markdown",
   "metadata": {
    "deletable": true,
    "editable": true
   },
   "source": [
    "<h3 style=\"font-size: 25px;\n",
    "           font-weight: 400;\">\n",
    "           <code style=\"color: #A500A5;\">str</code></h3>\n",
    "<p>A string is a collection of one or more characters.</p>"
   ]
  },
  {
   "cell_type": "code",
   "execution_count": 4,
   "metadata": {
    "collapsed": false,
    "deletable": true,
    "editable": true
   },
   "outputs": [
    {
     "name": "stdout",
     "output_type": "stream",
     "text": [
      "<type 'str'>\n"
     ]
    }
   ],
   "source": [
    "print(type(\"Hello World\"))"
   ]
  },
  {
   "cell_type": "markdown",
   "metadata": {
    "deletable": true,
    "editable": true
   },
   "source": [
    "<h4></h4>\n",
    "<p>Strings can be <i>concatenated</i>...</p>"
   ]
  },
  {
   "cell_type": "code",
   "execution_count": 5,
   "metadata": {
    "collapsed": false,
    "deletable": true,
    "editable": true
   },
   "outputs": [
    {
     "name": "stdout",
     "output_type": "stream",
     "text": [
      "Hello World\n"
     ]
    }
   ],
   "source": [
    "s = \"Hello\"\n",
    "\n",
    "print(s + \" World\")"
   ]
  },
  {
   "cell_type": "markdown",
   "metadata": {
    "deletable": true,
    "editable": true
   },
   "source": [
    "<h4></h4>\n",
    "<p>...and <i>indexed</i>...</p>"
   ]
  },
  {
   "cell_type": "code",
   "execution_count": 19,
   "metadata": {
    "collapsed": false,
    "deletable": true,
    "editable": true
   },
   "outputs": [
    {
     "name": "stdout",
     "output_type": "stream",
     "text": [
      "World\n"
     ]
    }
   ],
   "source": [
    "s = \"Hello World\"\n",
    "\n",
    "print(s[6:])  # 0-W 1-o 2-r 3-l 4-d"
   ]
  },
  {
   "cell_type": "markdown",
   "metadata": {
    "deletable": true,
    "editable": true
   },
   "source": [
    "<h4></h4>\n",
    "<p>...and <i>counted</i></p>"
   ]
  },
  {
   "cell_type": "code",
   "execution_count": 7,
   "metadata": {
    "collapsed": false,
    "deletable": true,
    "editable": true
   },
   "outputs": [
    {
     "name": "stdout",
     "output_type": "stream",
     "text": [
      "11\n"
     ]
    }
   ],
   "source": [
    "print(len(\"Hello World\"))"
   ]
  },
  {
   "cell_type": "markdown",
   "metadata": {
    "deletable": true,
    "editable": true
   },
   "source": [
    "<h3 style=\"font-size: 25px;\n",
    "           font-weight: 400;\">\n",
    "           <code style=\"color: #A500A5;\">bool</code></h3>\n",
    "<p>\n",
    "A boolean is binary, meaning that its value can either be true or false. Boolean values can be hard coded variables, or evaluated statements.\n",
    "</p>"
   ]
  },
  {
   "cell_type": "code",
   "execution_count": 21,
   "metadata": {
    "collapsed": false,
    "deletable": true,
    "editable": true
   },
   "outputs": [
    {
     "name": "stdout",
     "output_type": "stream",
     "text": [
      "<type 'bool'>\n"
     ]
    }
   ],
   "source": [
    "print(type(True))"
   ]
  },
  {
   "cell_type": "code",
   "execution_count": 9,
   "metadata": {
    "collapsed": false,
    "deletable": true,
    "editable": true
   },
   "outputs": [
    {
     "name": "stdout",
     "output_type": "stream",
     "text": [
      "(True, False)\n"
     ]
    }
   ],
   "source": [
    "# hard coded booleans\n",
    "is_true = True\n",
    "is_false = False\n",
    "\n",
    "print(is_true, is_false)"
   ]
  },
  {
   "cell_type": "code",
   "execution_count": 10,
   "metadata": {
    "collapsed": false,
    "deletable": true,
    "editable": true
   },
   "outputs": [
    {
     "name": "stdout",
     "output_type": "stream",
     "text": [
      "(True, False, False, True)\n"
     ]
    }
   ],
   "source": [
    "# evaluated booleans\n",
    "bool_a = 5 > 3   # 5 is greater than 3  -> True\n",
    "bool_b = 5 < 3   # 5 is less than 3     -> False\n",
    "bool_c = 5 == 3  # 5 is equal to 3      -> False\n",
    "bool_d = 5 != 3  # 5 is not equal to 3  -> True\n",
    "\n",
    "print(bool_a, bool_b, bool_c, bool_d)"
   ]
  },
  {
   "cell_type": "code",
   "execution_count": 11,
   "metadata": {
    "collapsed": false,
    "deletable": true,
    "editable": true
   },
   "outputs": [
    {
     "name": "stdout",
     "output_type": "stream",
     "text": [
      "True\n",
      "False\n",
      "True\n"
     ]
    }
   ],
   "source": [
    "# more evaluated booleans\n",
    "print(True or False)   # -> True\n",
    "print(True and False)  # -> False\n",
    "print(True and True)   # -> True"
   ]
  },
  {
   "cell_type": "markdown",
   "metadata": {
    "deletable": true,
    "editable": true
   },
   "source": [
    "<h2 style=\"font-size: 30px;\n",
    "           font-weight: 400;\">Functions</h2>\n",
    "<hr style=\"height: 0.5px;\">"
   ]
  },
  {
   "cell_type": "markdown",
   "metadata": {
    "deletable": true,
    "editable": true
   },
   "source": [
    "<p>\n",
    "A function is a packaged series of commands or operations that can be reused. In python <b>all functions return a value</b> whether or not the <code style=\"color: #A500A5;\"><b>return</b></code> command is used. Functions are defined using the <b>def</b> command, followed by parentheses.\n",
    "</p>"
   ]
  },
  {
   "cell_type": "code",
   "execution_count": 24,
   "metadata": {
    "collapsed": false,
    "deletable": true,
    "editable": true
   },
   "outputs": [],
   "source": [
    "def some_function(): # define new function called \"some_function\"\n",
    "    print(\"Hello Functions\")\n",
    "    print(\"Hello again\")"
   ]
  },
  {
   "cell_type": "markdown",
   "metadata": {
    "deletable": true,
    "editable": true
   },
   "source": [
    "<h4></h4>\n",
    "<p>\n",
    "After a function is defined, it is stored in the computer's memory, however the function is not executed until it is called. All functions must be defined <b>before</b> they are called.\n",
    "</p>"
   ]
  },
  {
   "cell_type": "code",
   "execution_count": 28,
   "metadata": {
    "collapsed": false,
    "deletable": true,
    "editable": true
   },
   "outputs": [
    {
     "name": "stdout",
     "output_type": "stream",
     "text": [
      "Hello Functions\n",
      "Hello again\n"
     ]
    }
   ],
   "source": [
    "some_function() # call \"some_function\""
   ]
  },
  {
   "cell_type": "markdown",
   "metadata": {
    "deletable": true,
    "editable": true
   },
   "source": [
    "<h4></h4>\n",
    "<p>\n",
    "Functions can also return values. A function that returns a value, becomes the data type (or object) that it returns.\n",
    "</p>"
   ]
  },
  {
   "cell_type": "code",
   "execution_count": 36,
   "metadata": {
    "collapsed": true,
    "deletable": true,
    "editable": true
   },
   "outputs": [],
   "source": [
    "def some_other_function(): # define new function called \"some_other_function\"\n",
    "    return 5 + 10 + 20"
   ]
  },
  {
   "cell_type": "code",
   "execution_count": 37,
   "metadata": {
    "collapsed": false,
    "deletable": true,
    "editable": true
   },
   "outputs": [
    {
     "name": "stdout",
     "output_type": "stream",
     "text": [
      "35\n"
     ]
    }
   ],
   "source": [
    "print(some_other_function()) # call \"some_function\""
   ]
  },
  {
   "cell_type": "markdown",
   "metadata": {
    "deletable": true,
    "editable": true
   },
   "source": [
    "<h4></h4>\n",
    "<p>\n",
    "Functions can also be set to variables, variables that would then become the data type (or object) that the function returns.\n",
    "</p>"
   ]
  },
  {
   "cell_type": "code",
   "execution_count": 39,
   "metadata": {
    "collapsed": false,
    "deletable": true,
    "editable": true
   },
   "outputs": [
    {
     "name": "stdout",
     "output_type": "stream",
     "text": [
      "35\n",
      "<type 'int'>\n"
     ]
    }
   ],
   "source": [
    "f = some_other_function()\n",
    "print(f)\n",
    "print(type(f))"
   ]
  },
  {
   "cell_type": "markdown",
   "metadata": {
    "deletable": true,
    "editable": true
   },
   "source": [
    "<h4></h4>\n",
    "<p>\n",
    "Functions can also receive parameters. Parameters are placeholder variables for information or data that will be passed through later. This is a concept not unique to programming. In fact, functions and parameters are a fundamental skill taught in high school algebra courses. This is demonstrated in the sample problem below.\n",
    "</p>\n",
    "\n",
    "<p>\n",
    "$f(x) = 4x + 5$, &nbsp; $g(x) = 5x$ <br>\n",
    "</p>"
   ]
  },
  {
   "cell_type": "code",
   "execution_count": 47,
   "metadata": {
    "collapsed": true,
    "deletable": true,
    "editable": true
   },
   "outputs": [],
   "source": [
    "def f(x):\n",
    "    return (4 * x) + 5\n",
    "\n",
    "def g(x):\n",
    "    return 5 * x"
   ]
  },
  {
   "cell_type": "markdown",
   "metadata": {
    "deletable": true,
    "editable": true
   },
   "source": [
    "<h4></h4>\n",
    "<p>\n",
    "Find &nbsp; $f(g(x))$ &nbsp; when $x = 3$:\n",
    "</p>"
   ]
  },
  {
   "cell_type": "code",
   "execution_count": 48,
   "metadata": {
    "collapsed": false,
    "deletable": true,
    "editable": true
   },
   "outputs": [
    {
     "name": "stdout",
     "output_type": "stream",
     "text": [
      "65\n"
     ]
    }
   ],
   "source": [
    "x = 3\n",
    "print( f(g(x)) )"
   ]
  },
  {
   "cell_type": "markdown",
   "metadata": {
    "deletable": true,
    "editable": true
   },
   "source": [
    "<h4></h4>\n",
    "<p>Woah. Let's break this down...</p>"
   ]
  },
  {
   "cell_type": "code",
   "execution_count": 49,
   "metadata": {
    "collapsed": false,
    "deletable": true,
    "editable": true
   },
   "outputs": [
    {
     "name": "stdout",
     "output_type": "stream",
     "text": [
      "15\n"
     ]
    }
   ],
   "source": [
    "print( g(x) )     # g(x) returns the values computed in, well... g(x)"
   ]
  },
  {
   "cell_type": "code",
   "execution_count": 43,
   "metadata": {
    "collapsed": false,
    "deletable": true,
    "editable": true
   },
   "outputs": [
    {
     "name": "stdout",
     "output_type": "stream",
     "text": [
      "65\n"
     ]
    }
   ],
   "source": [
    "print( f(g(x)) )  # g(x) can be passed into f(x), which means g(x) inside of f(x) is x!"
   ]
  },
  {
   "cell_type": "markdown",
   "metadata": {
    "deletable": true,
    "editable": true
   },
   "source": [
    "<h1 style=\"font-size: 30px\">Exercises</h1>\n",
    "<hr style=\"height: 3px;\">\n",
    "<p></p>"
   ]
  },
  {
   "cell_type": "markdown",
   "metadata": {
    "deletable": true,
    "editable": true
   },
   "source": [
    "<h4>1.</h4>\n",
    "<p style=\"text-indent: 40px\">\n",
    "Concatenate the given\n",
    "<code style=\"color: #A500A5;\"><b>str</b></code>\n",
    "variables\n",
    "<code style=\"color: #4C4C4C;\"><b>first_name</b></code>,\n",
    "<code style=\"color: #4C4C4C;\"><b>last_name</b></code>\n",
    "and set it equal to a new variable called\n",
    "<code style=\"color: #4C4C4C;\"><b>full_name</b></code>.\n",
    "</p>\n"
   ]
  },
  {
   "cell_type": "code",
   "execution_count": null,
   "metadata": {
    "collapsed": false,
    "deletable": true,
    "editable": true
   },
   "outputs": [],
   "source": [
    "first_name = \"Tom\"\n",
    "last_name = \"Smith\"\n",
    "\n",
    "# your code here...\n"
   ]
  },
  {
   "cell_type": "markdown",
   "metadata": {
    "deletable": true,
    "editable": true
   },
   "source": [
    "<h4>2.</h4>\n",
    "<p style=\"padding-left: 40px\">\n",
    "The variable <code style=\"color: #4C4C4C;\"><b>user_name</b></code> prompts the user to input their full name as a\n",
    "<code style=\"color: #A500A5;\"><b>str</b></code>.\n",
    "Call the\n",
    "<code style=\"color: #1C00FF;\">same_name</code>\n",
    "function to check if\n",
    "<code style=\"color: #4C4C4C;\"><b>user_name</b></code>\n",
    "is equal to the previously defined variable\n",
    "<code style=\"color: #4C4C4C;\"><b>full_name</b></code>.\n",
    "</p>\n",
    "\n"
   ]
  },
  {
   "cell_type": "code",
   "execution_count": null,
   "metadata": {
    "collapsed": true,
    "deletable": true,
    "editable": true
   },
   "outputs": [],
   "source": [
    "user_name = input(\"Enter Full Name: \")\n",
    "\n",
    "def same_name(name1,name2):\n",
    "    print(name1 == name2)\n",
    "\n",
    "# your code here...\n"
   ]
  }
 ],
 "metadata": {
  "kernelspec": {
   "display_name": "Python [default]",
   "language": "python",
   "name": "python2"
  },
  "language_info": {
   "codemirror_mode": {
    "name": "ipython",
    "version": 2
   },
   "file_extension": ".py",
   "mimetype": "text/x-python",
   "name": "python",
   "nbconvert_exporter": "python",
   "pygments_lexer": "ipython2",
   "version": "2.7.13"
  }
 },
 "nbformat": 4,
 "nbformat_minor": 2
}
