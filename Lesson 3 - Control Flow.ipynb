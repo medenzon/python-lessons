{
 "cells": [
  {
   "cell_type": "markdown",
   "metadata": {
    "deletable": true,
    "editable": true
   },
   "source": [
    "<h1 style=\"font-size: 30px\">Lesson 3 - Control Flow</h1>\n",
    "<hr style=\"height: 3px;\">"
   ]
  },
  {
   "cell_type": "markdown",
   "metadata": {
    "deletable": true,
    "editable": true
   },
   "source": [
    "<h2 style=\"font-size: 30px;\n",
    "           font-weight: 400;\">Loops</h2>\n",
    "<hr style=\"height: 0.5px;\">\n",
    "<p>\n",
    "Loops allow us to do a repetetive task with minimal code.\n",
    "</p>"
   ]
  },
  {
   "cell_type": "markdown",
   "metadata": {
    "deletable": true,
    "editable": true
   },
   "source": [
    "<p>\n",
    "The first, and most common type of loop is called a <b>for-loop</b>. A for-loop is used when their is a fixed number of iterations. This is helpful when we know how many times we want certain code to repeat. The following code demonstrates a simply use of a for-loop to print out the string \"Hello\" three times.\n",
    "<p>"
   ]
  },
  {
   "cell_type": "code",
   "execution_count": 5,
   "metadata": {
    "collapsed": false,
    "deletable": true,
    "editable": true
   },
   "outputs": [
    {
     "name": "stdout",
     "output_type": "stream",
     "text": [
      "Hello\n",
      "Hello\n",
      "Hello\n"
     ]
    }
   ],
   "source": [
    "for i in range(3):\n",
    "    print(\"Hello\")"
   ]
  },
  {
   "cell_type": "markdown",
   "metadata": {
    "deletable": true,
    "editable": true
   },
   "source": [
    "<h4></h4>\n",
    "<p>\n",
    "For-loops are especially useful for computing mathematical equations such as factorials. In this example, we compute the factorial of 10. In order to do this, however, we need to iterate in reverse. No sweat!<br>\n",
    "Using the <code style=\"color: #008002;\">range</code> function, we enter these values as parameters...<br>\n",
    "<p>\n",
    "\n",
    "<p style=\"text-indent: 30px;\">\n",
    "<code style=\"color: #008002;\">range</code>\n",
    "<code>(</code>\n",
    "<code>startNumber , stopNumber , countNumber</code>\n",
    "<code>)</code>\n",
    "</p>"
   ]
  },
  {
   "cell_type": "code",
   "execution_count": 11,
   "metadata": {
    "collapsed": false,
    "deletable": true,
    "editable": true
   },
   "outputs": [
    {
     "name": "stdout",
     "output_type": "stream",
     "text": [
      "3628800\n"
     ]
    }
   ],
   "source": [
    "n = 1\n",
    "\n",
    "for i in range(10,0,-1):\n",
    "    n = n * i\n",
    "\n",
    "print(n)"
   ]
  },
  {
   "cell_type": "markdown",
   "metadata": {
    "collapsed": true,
    "deletable": true,
    "editable": true
   },
   "source": [
    "<h4></h4>\n",
    "<p>\n",
    "The second type of loop is called a <b>while-loop</b>. While-loops are self-explanatory... the loop continues to run <i>while</i> a certain condition is true. Before each iteration, the loop checks the to see that the condition is still true, if it is, the loop will complete another iteration. However, if the condition has changed, and is no longer true, the loop will end. A loop whose condition will never be false is called an <b>infinite loop</b>.\n",
    "<p>\n",
    "\n",
    "<p>This is an example of an infinite loop:</p>\n",
    "<p style=\"text-indent: 30px;\">\n",
    "    <code style=\"color: #008002;\"><b>while</b></code>&nbsp;\n",
    "    <code style=\"color: #008002;\">True</code><code>:</code><br>\n",
    "    <code style=\"color: #3F8080;\">        #</code><br>\n",
    "    <code style=\"color: #3F8080;\">        # execute some code</code><br>\n",
    "    <code style=\"color: #3F8080;\">        #</code><br>\n",
    "</p>"
   ]
  },
  {
   "cell_type": "code",
   "execution_count": 3,
   "metadata": {
    "collapsed": false,
    "deletable": true,
    "editable": true
   },
   "outputs": [
    {
     "name": "stdout",
     "output_type": "stream",
     "text": [
      "10\n"
     ]
    }
   ],
   "source": [
    "n = 5\n",
    "\n",
    "while n < 10:\n",
    "    n = n + 1\n",
    "\n",
    "print(n)"
   ]
  },
  {
   "cell_type": "markdown",
   "metadata": {
    "deletable": true,
    "editable": true
   },
   "source": [
    "<h2 style=\"font-size: 30px;\n",
    "           font-weight: 400;\">Conditionals</h2>\n",
    "<hr style=\"height: 0.5px;\">"
   ]
  },
  {
   "cell_type": "markdown",
   "metadata": {
    "collapsed": true,
    "deletable": true,
    "editable": true
   },
   "source": [
    "<p>\n",
    "A conditional, commonly referred to as an <b>if-else statement</b>, runs a specified block of code <b>only</b> when the given condition is true.\n",
    "<p>"
   ]
  },
  {
   "cell_type": "code",
   "execution_count": 15,
   "metadata": {
    "collapsed": false,
    "deletable": true,
    "editable": true
   },
   "outputs": [
    {
     "name": "stdout",
     "output_type": "stream",
     "text": [
      "The condition was True!\n"
     ]
    }
   ],
   "source": [
    "if 5 > 3:\n",
    "    print(\"The condition was True!\")"
   ]
  },
  {
   "cell_type": "markdown",
   "metadata": {
    "collapsed": true,
    "deletable": true,
    "editable": true
   },
   "source": [
    "<h4></h4>\n",
    "<p>\n",
    "What happens if you want to execute a <i>different</i> line of code if the first condition is not met?\n",
    "<p>"
   ]
  },
  {
   "cell_type": "code",
   "execution_count": 13,
   "metadata": {
    "collapsed": false,
    "deletable": true,
    "editable": true
   },
   "outputs": [
    {
     "name": "stdout",
     "output_type": "stream",
     "text": [
      "The condition was False!\n"
     ]
    }
   ],
   "source": [
    "if 3 > 5:\n",
    "    print(\"The condition was True!\")\n",
    "    \n",
    "else:\n",
    "    print(\"The condition was False!\")"
   ]
  },
  {
   "cell_type": "code",
   "execution_count": 6,
   "metadata": {
    "collapsed": false,
    "deletable": true,
    "editable": true
   },
   "outputs": [
    {
     "name": "stdout",
     "output_type": "stream",
     "text": [
      "The alternate condition was True!\n"
     ]
    }
   ],
   "source": [
    "if 3 > 5:\n",
    "    print(\"The condition was True!\")\n",
    "    \n",
    "elif 5 > 3: # else if\n",
    "    print(\"The alternate condition was True!\")\n",
    "    \n",
    "else:\n",
    "    print(\"The condition was False!\")"
   ]
  },
  {
   "cell_type": "markdown",
   "metadata": {
    "deletable": true,
    "editable": true
   },
   "source": [
    "<h1 style=\"font-size: 30px\">Exercises</h1>\n",
    "<hr style=\"height: 3px;\">"
   ]
  },
  {
   "cell_type": "markdown",
   "metadata": {
    "deletable": true,
    "editable": true
   },
   "source": [
    "<p><b>1.</b> &nbsp; With a for-loop, approximate the value of pi using the Wallis formula:</p>\n",
    "<p style=\"text-indent:70px;\">\n",
    "$\\frac{\\pi}{2} =\n",
    "\\frac{2}{1} \\cdot\n",
    "\\frac{2}{3} \\cdot\n",
    "\\frac{4}{3} \\cdot\n",
    "\\frac{4}{5} \\cdot\n",
    "\\frac{6}{5} \\cdot\n",
    "\\frac{6}{7} \\cdot\n",
    "\\frac{8}{7}...\n",
    "\\cdot \\frac{m}{n}$\n",
    "</p>"
   ]
  },
  {
   "cell_type": "code",
   "execution_count": 7,
   "metadata": {
    "collapsed": true,
    "deletable": true,
    "editable": true
   },
   "outputs": [],
   "source": [
    "# define variables with starting values\n",
    "num = 2\n",
    "den = 1\n",
    "\n",
    "# your code here...\n"
   ]
  }
 ],
 "metadata": {
  "kernelspec": {
   "display_name": "Python [default]",
   "language": "python",
   "name": "python2"
  },
  "language_info": {
   "codemirror_mode": {
    "name": "ipython",
    "version": 2
   },
   "file_extension": ".py",
   "mimetype": "text/x-python",
   "name": "python",
   "nbconvert_exporter": "python",
   "pygments_lexer": "ipython2",
   "version": "2.7.13"
  }
 },
 "nbformat": 4,
 "nbformat_minor": 2
}
