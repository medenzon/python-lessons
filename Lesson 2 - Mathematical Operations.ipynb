{
 "cells": [
  {
   "cell_type": "markdown",
   "metadata": {
    "deletable": true,
    "editable": true
   },
   "source": [
    "<h1 style=\"font-size: 30px\">Lesson 2 - Mathematical Operations</h1>\n",
    "<hr style=\"height: 3px;\">"
   ]
  },
  {
   "cell_type": "markdown",
   "metadata": {
    "deletable": true,
    "editable": true
   },
   "source": [
    "<h2 style=\"font-size: 30px;\n",
    "           font-weight: 400;\">Arithmetic</h2>\n",
    "<hr style=\"height: 0.5px;\">"
   ]
  },
  {
   "cell_type": "code",
   "execution_count": 1,
   "metadata": {
    "collapsed": false,
    "deletable": true,
    "editable": true
   },
   "outputs": [],
   "source": [
    "# define variables\n",
    "x = 15.0\n",
    "y = 10.0"
   ]
  },
  {
   "cell_type": "markdown",
   "metadata": {
    "deletable": true,
    "editable": true
   },
   "source": [
    "<h4>Addition</h4>"
   ]
  },
  {
   "cell_type": "code",
   "execution_count": 2,
   "metadata": {
    "collapsed": false,
    "deletable": true,
    "editable": true
   },
   "outputs": [
    {
     "name": "stdout",
     "output_type": "stream",
     "text": [
      "25.0\n"
     ]
    }
   ],
   "source": [
    "z = x + y\n",
    "print(z)"
   ]
  },
  {
   "cell_type": "markdown",
   "metadata": {
    "deletable": true,
    "editable": true
   },
   "source": [
    "<h4>Subtraction</h4>"
   ]
  },
  {
   "cell_type": "code",
   "execution_count": 3,
   "metadata": {
    "collapsed": false,
    "deletable": true,
    "editable": true
   },
   "outputs": [
    {
     "name": "stdout",
     "output_type": "stream",
     "text": [
      "5.0\n"
     ]
    }
   ],
   "source": [
    "z = x - y\n",
    "print(z)"
   ]
  },
  {
   "cell_type": "markdown",
   "metadata": {
    "deletable": true,
    "editable": true
   },
   "source": [
    "<h4>Multiplication</h4>\n",
    "<p style=\"text-indent: 10px\">$z = x \\cdot y$</p>"
   ]
  },
  {
   "cell_type": "code",
   "execution_count": 6,
   "metadata": {
    "collapsed": false,
    "deletable": true,
    "editable": true
   },
   "outputs": [
    {
     "name": "stdout",
     "output_type": "stream",
     "text": [
      "150.0\n"
     ]
    }
   ],
   "source": [
    "z = x * y\n",
    "print(z)"
   ]
  },
  {
   "cell_type": "markdown",
   "metadata": {
    "deletable": true,
    "editable": true
   },
   "source": [
    "<h4>Division</h4>\n",
    "<p style=\"text-indent: 10px\">$z = \\frac{x}{y}$</p>"
   ]
  },
  {
   "cell_type": "code",
   "execution_count": 7,
   "metadata": {
    "collapsed": false,
    "deletable": true,
    "editable": true
   },
   "outputs": [
    {
     "name": "stdout",
     "output_type": "stream",
     "text": [
      "1.5\n"
     ]
    }
   ],
   "source": [
    "z = x / y\n",
    "print(z)"
   ]
  },
  {
   "cell_type": "markdown",
   "metadata": {
    "deletable": true,
    "editable": true
   },
   "source": [
    "<h4>Integer Division</h4>\n",
    "<p style=\"text-indent: 10px\">Returns the product as an integer, not rounded.</p>"
   ]
  },
  {
   "cell_type": "code",
   "execution_count": 12,
   "metadata": {
    "collapsed": false,
    "deletable": true,
    "editable": true
   },
   "outputs": [
    {
     "name": "stdout",
     "output_type": "stream",
     "text": [
      "1.0\n"
     ]
    }
   ],
   "source": [
    "z = x // y\n",
    "print(z)"
   ]
  },
  {
   "cell_type": "markdown",
   "metadata": {
    "deletable": true,
    "editable": true
   },
   "source": [
    "<h4>Modulo</h4>\n",
    "<p style=\"text-indent: 10px\">returns the remainder of $\\frac{x}{y}$</p>"
   ]
  },
  {
   "cell_type": "code",
   "execution_count": 17,
   "metadata": {
    "collapsed": false,
    "deletable": true,
    "editable": true
   },
   "outputs": [
    {
     "name": "stdout",
     "output_type": "stream",
     "text": [
      "5.0\n"
     ]
    }
   ],
   "source": [
    "z = x % y\n",
    "print(z)"
   ]
  },
  {
   "cell_type": "markdown",
   "metadata": {
    "deletable": true,
    "editable": true
   },
   "source": [
    "<h4>Exponents</h4>\n",
    "<p style=\"text-indent: 10px\">$n = y^2$</p>"
   ]
  },
  {
   "cell_type": "code",
   "execution_count": 18,
   "metadata": {
    "collapsed": false,
    "deletable": true,
    "editable": true
   },
   "outputs": [
    {
     "name": "stdout",
     "output_type": "stream",
     "text": [
      "100.0\n"
     ]
    }
   ],
   "source": [
    "n = y ** 2\n",
    "print(n)"
   ]
  },
  {
   "cell_type": "markdown",
   "metadata": {
    "deletable": true,
    "editable": true
   },
   "source": [
    "<h4>Roots</h4>\n",
    "<p style=\"text-indent: 10px\">$n = y^\\frac{1}{2}$</p>"
   ]
  },
  {
   "cell_type": "code",
   "execution_count": 20,
   "metadata": {
    "collapsed": false,
    "deletable": true,
    "editable": true
   },
   "outputs": [
    {
     "name": "stdout",
     "output_type": "stream",
     "text": [
      "10.0\n"
     ]
    }
   ],
   "source": [
    "m = n ** 0.5\n",
    "print(m)"
   ]
  },
  {
   "cell_type": "markdown",
   "metadata": {
    "collapsed": true,
    "deletable": true,
    "editable": true
   },
   "source": [
    "<h2 style=\"font-size: 30px;\n",
    "           font-weight: 400;\">Algebra</h2>\n",
    "<hr style=\"height: 0.5px;\">"
   ]
  },
  {
   "cell_type": "code",
   "execution_count": 10,
   "metadata": {
    "collapsed": true,
    "deletable": true,
    "editable": true
   },
   "outputs": [],
   "source": [
    "# define variables\n",
    "n = 3.0\n",
    "m = 5.0\n",
    "b = 8.0\n",
    "x = 15.0\n",
    "y = 10.0"
   ]
  },
  {
   "cell_type": "markdown",
   "metadata": {
    "collapsed": true,
    "deletable": true,
    "editable": true
   },
   "source": [
    "<h4>Order of Operations</h4>\n",
    "<p>\n",
    "Python uses order of operations when computing your code!<br>\n",
    "Just like traditional mathematic notation, parentheses are not necessary if the order can be implied.<br>\n",
    "For example:\n",
    "</p>\n",
    "<p style=\"text-indent: 40px\">$y = mx + b$</p>"
   ]
  },
  {
   "cell_type": "code",
   "execution_count": 11,
   "metadata": {
    "collapsed": false,
    "deletable": true,
    "editable": true
   },
   "outputs": [
    {
     "name": "stdout",
     "output_type": "stream",
     "text": [
      "83.0\n"
     ]
    }
   ],
   "source": [
    "z = m * x + b\n",
    "print(z)"
   ]
  },
  {
   "cell_type": "markdown",
   "metadata": {
    "deletable": true,
    "editable": true
   },
   "source": [
    "<h4>Algebraic Expressions</h4>\n",
    "<p>\n",
    "Complex algebraic expressions can be expressed as well.<br>\n",
    "For example:\n",
    "</p>\n",
    "\n",
    "<p style=\"text-indent: 40px\">$z = \\left(\\frac{n}{m}\\right)^2  + b$</p>"
   ]
  },
  {
   "cell_type": "code",
   "execution_count": 12,
   "metadata": {
    "collapsed": false,
    "deletable": true,
    "editable": true
   },
   "outputs": [
    {
     "name": "stdout",
     "output_type": "stream",
     "text": [
      "8.36\n"
     ]
    }
   ],
   "source": [
    "z = ((n / m)**2) + b\n",
    "print z"
   ]
  },
  {
   "cell_type": "markdown",
   "metadata": {
    "collapsed": true,
    "deletable": true,
    "editable": true
   },
   "source": [
    "<h4> <i>Make Code Readable Again!<i> </h4>\n",
    "<p>\n",
    "For mathematical expressions, parentheses, although not required, make your code more readable. The mathematical expression shown below is coded in the following cell with and without parentheses to demonstrate the value of readability.\n",
    "</p>\n",
    "\n",
    "<p style=\"text-indent: 40px\">$nm + \\left(\\frac{n}{2}\\right)m^2$</p>"
   ]
  },
  {
   "cell_type": "code",
   "execution_count": 13,
   "metadata": {
    "collapsed": false,
    "deletable": true,
    "editable": true
   },
   "outputs": [
    {
     "name": "stdout",
     "output_type": "stream",
     "text": [
      "52.5\n",
      "52.5\n"
     ]
    }
   ],
   "source": [
    "print( n * m + n / 2 * m ** 2 )\n",
    "print( (n * m) + ((n / 2) * (m ** 2)) )"
   ]
  },
  {
   "cell_type": "markdown",
   "metadata": {
    "deletable": true,
    "editable": true
   },
   "source": [
    "<h1 style=\"font-size: 30px\">Exercises</h1>\n",
    "<hr style=\"height: 3px;\">\n",
    "<p>Encode the following mathematical expressions in python.</p>"
   ]
  },
  {
   "cell_type": "markdown",
   "metadata": {
    "deletable": true,
    "editable": true
   },
   "source": [
    "<h4>1.</h4>\n",
    "<p style=\"text-indent: 40px\">$d=\\sqrt{(x_2 - x_1)^2 + (y_2 - y_1)^2}$</p>"
   ]
  },
  {
   "cell_type": "code",
   "execution_count": 14,
   "metadata": {
    "collapsed": false,
    "deletable": true,
    "editable": true
   },
   "outputs": [],
   "source": [
    "# define variables\n",
    "x1,y1 = 8.7,32.3\n",
    "x2,y2 = 94.5,43.1\n",
    "\n",
    "# your code here...\n"
   ]
  },
  {
   "cell_type": "markdown",
   "metadata": {
    "deletable": true,
    "editable": true
   },
   "source": [
    "<h4>2.</h4>\n",
    "<p style=\"text-indent: 40px\">$n = m \\left(\\frac{1}{2}\\right)^{t}$</p>"
   ]
  },
  {
   "cell_type": "code",
   "execution_count": 15,
   "metadata": {
    "collapsed": true,
    "deletable": true,
    "editable": true
   },
   "outputs": [],
   "source": [
    "# define variables\n",
    "m = 55\n",
    "t = 12\n",
    "\n",
    "# your code here...\n"
   ]
  },
  {
   "cell_type": "markdown",
   "metadata": {
    "deletable": true,
    "editable": true
   },
   "source": [
    "<h4>3.</h4>\n",
    "<p style=\"text-indent: 40px\">$A = P \\left(1 + \\frac{r}{n}\\right)^{nt}$</p>"
   ]
  },
  {
   "cell_type": "code",
   "execution_count": 16,
   "metadata": {
    "collapsed": true,
    "deletable": true,
    "editable": true
   },
   "outputs": [],
   "source": [
    "# define variables\n",
    "p = 103.5\n",
    "r = 0.23\n",
    "n = 12.0\n",
    "t = 22.0\n",
    "\n",
    "# your code here...\n"
   ]
  },
  {
   "cell_type": "markdown",
   "metadata": {
    "deletable": true,
    "editable": true
   },
   "source": [
    "<h4>4.</h4>\n",
    "<p style=\"text-indent: 40px\">$z = x^2 + \\left(\\frac{b}{a}\\right)x + \\left(\\frac{b}{2a}\\right)^2$</p>"
   ]
  },
  {
   "cell_type": "code",
   "execution_count": 17,
   "metadata": {
    "collapsed": true,
    "deletable": true,
    "editable": true
   },
   "outputs": [],
   "source": [
    "# define variables\n",
    "x = 5.3\n",
    "b = 2.0\n",
    "a = 3.7\n",
    "\n",
    "# your code here...\n"
   ]
  }
 ],
 "metadata": {
  "kernelspec": {
   "display_name": "Python [default]",
   "language": "python",
   "name": "python2"
  },
  "language_info": {
   "codemirror_mode": {
    "name": "ipython",
    "version": 2
   },
   "file_extension": ".py",
   "mimetype": "text/x-python",
   "name": "python",
   "nbconvert_exporter": "python",
   "pygments_lexer": "ipython2",
   "version": "2.7.13"
  }
 },
 "nbformat": 4,
 "nbformat_minor": 2
}
